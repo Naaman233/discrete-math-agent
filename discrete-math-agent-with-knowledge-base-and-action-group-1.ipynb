{
 "cells": [
  {
   "cell_type": "markdown",
   "id": "642ddbaf",
   "metadata": {},
   "source": [
    "discrete math agent\n"
   ]
  }
 ],
 "metadata": {
  "language_info": {
   "name": "python"
  }
 },
 "nbformat": 4,
 "nbformat_minor": 5
}
